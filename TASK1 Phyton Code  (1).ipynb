{
 "cells": [
  {
   "cell_type": "code",
   "execution_count": 3,
   "id": "1e48c428-9e83-4474-8a22-0bcad11ccc7b",
   "metadata": {},
   "outputs": [
    {
     "name": "stdout",
     "output_type": "stream",
     "text": [
      "12\n"
     ]
    }
   ],
   "source": [
    "# task 1: sum of two numbers \n",
    "a = 5\n",
    "b = 7\n",
    "c = a+b \n",
    "print (c)"
   ]
  },
  {
   "cell_type": "code",
   "execution_count": 1,
   "id": "2e7e42f6-6936-4b8e-b280-278d9729fbd3",
   "metadata": {},
   "outputs": [
    {
     "name": "stdin",
     "output_type": "stream",
     "text": [
      "Enter a number:  111\n"
     ]
    },
    {
     "name": "stdout",
     "output_type": "stream",
     "text": [
      "The number 111 is Odd.\n"
     ]
    }
   ],
   "source": [
    "# task 2:  Even or Odd Checker\n",
    "\n",
    "# Input: Take a single integer from the user\n",
    "number = int(input(\"Enter a number: \"))\n",
    "\n",
    "# Process: Determine if it's even or odd\n",
    "if number % 2 == 0:\n",
    "    result = \"Even\"\n",
    "else:\n",
    "    result = \"Odd\"\n",
    "\n",
    "# Output: Display whether the number is Even or Odd\n",
    "print(f\"The number {number} is {result}.\")\n"
   ]
  },
  {
   "cell_type": "code",
   "execution_count": 15,
   "id": "3d18306e-4bfb-4899-99dc-3ee9622b7b3b",
   "metadata": {},
   "outputs": [
    {
     "name": "stdin",
     "output_type": "stream",
     "text": [
      "Enter a number:  5\n"
     ]
    },
    {
     "name": "stdout",
     "output_type": "stream",
     "text": [
      "The factorial of 5 is 120.\n"
     ]
    }
   ],
   "source": [
    "#task 3 : factorial function\n",
    "import math\n",
    "\n",
    "# Input: Prompt the user to enter a number\n",
    "n = int(input(\"Enter a number: \"))\n",
    "\n",
    "# Process: Calculate the factorial using math.factorial\n",
    "factorial = math.factorial(n)\n",
    "\n",
    "# Output: Display the result\n",
    "print(f\"The factorial of {n} is {factorial}.\")\n"
   ]
  },
  {
   "cell_type": "code",
   "execution_count": 13,
   "id": "a12e7c9e-c685-4be8-ba85-cd02bb7f29ae",
   "metadata": {},
   "outputs": [
    {
     "name": "stdin",
     "output_type": "stream",
     "text": [
      "Enter the number of terms:  5\n"
     ]
    },
    {
     "name": "stdout",
     "output_type": "stream",
     "text": [
      "The first 5 numbers in the Fibonacci sequence are: [0, 1, 1, 2, 3]\n"
     ]
    }
   ],
   "source": [
    "#task 4 : fibonacci series \n",
    "def generate_fibonacci(n):\n",
    "    \"\"\"Generate the first n Fibonacci numbers.\"\"\"\n",
    "    if n <= 0:\n",
    "        return \"Please enter a positive integer.\"\n",
    "    elif n == 1:\n",
    "        return [0]\n",
    "    elif n == 2:\n",
    "        return [0, 1]\n",
    "    else:\n",
    "        fibonacci_sequence = [0, 1]\n",
    "        for i in range(2, n):\n",
    "            next_number = fibonacci_sequence[-1] + fibonacci_sequence[-2]\n",
    "            fibonacci_sequence.append(next_number)\n",
    "        return fibonacci_sequence \n",
    "        # Input: Prompt the user to enter the number of terms\n",
    "n = int(input(\"Enter the number of terms: \"))\n",
    "\n",
    "# Generate and display the Fibonacci sequence\n",
    "fibonacci_sequence = generate_fibonacci(n)\n",
    "print(f\"The first {n} numbers in the Fibonacci sequence are: {fibonacci_sequence}\")\n",
    "\n"
   ]
  },
  {
   "cell_type": "code",
   "execution_count": 11,
   "id": "9ba000bb-6b67-4187-9cce-ecd6dfb8e7a0",
   "metadata": {},
   "outputs": [
    {
     "name": "stdin",
     "output_type": "stream",
     "text": [
      "Enter a string:  5\n"
     ]
    },
    {
     "name": "stdout",
     "output_type": "stream",
     "text": [
      "The reversed string is: 5\n"
     ]
    }
   ],
   "source": [
    "# task 5 :  Function to reverse a string\n",
    "def reverse_string(input_string):\n",
    "    \"\"\"Reverse the characters in a string.\"\"\"\n",
    "    return input_string[::-1]\n",
    "\n",
    "# Input: Prompt the user to enter a string\n",
    "user_input = input(\"Enter a string: \")\n",
    "\n",
    "# Process: Reverse the string\n",
    "reversed_string = reverse_string(user_input)\n",
    "\n",
    "# Output: Display the reversed string\n",
    "print(f\"The reversed string is: {reversed_string}\")\n"
   ]
  },
  {
   "cell_type": "code",
   "execution_count": 17,
   "id": "4637a990-b16e-40f7-a892-a754cf54057f",
   "metadata": {},
   "outputs": [
    {
     "name": "stdin",
     "output_type": "stream",
     "text": [
      "Enter a string:  6\n"
     ]
    },
    {
     "name": "stdout",
     "output_type": "stream",
     "text": [
      "The string is a palindrome.\n"
     ]
    }
   ],
   "source": [
    "#task 6: palindome program \n",
    "def is_palindrome(input_string):\n",
    "    \"\"\"Check if a string is a palindrome.\"\"\"\n",
    "    # Remove spaces and convert to lowercase for case-insensitive comparison\n",
    "    cleaned_string = input_string.replace(\" \", \"\").lower()\n",
    "    # Compare the cleaned string with its reverse\n",
    "    return cleaned_string == cleaned_string[::-1]\n",
    "# Input: Prompt the user to enter a string\n",
    "user_input = input(\"Enter a string: \")\n",
    "\n",
    "# Process: Check if the string is a palindrome\n",
    "if is_palindrome(user_input):\n",
    "    print(\"The string is a palindrome.\")\n",
    "else:\n",
    "    print(\"The string is not a palindrome.\")\n"
   ]
  },
  {
   "cell_type": "code",
   "execution_count": 19,
   "id": "5e4e841e-31d1-4699-aad4-90f01f7ca2c8",
   "metadata": {},
   "outputs": [
    {
     "name": "stdin",
     "output_type": "stream",
     "text": [
      "Enter a year:  2025\n"
     ]
    },
    {
     "name": "stdout",
     "output_type": "stream",
     "text": [
      "2025 is not a leap year.\n"
     ]
    }
   ],
   "source": [
    "#task 7: leap year program \n",
    "def is_leap_year(year):\n",
    "    \"\"\"Check if a year is a leap year.\"\"\"\n",
    "    if (year % 4 == 0 and year % 100 != 0) or (year % 400 == 0):\n",
    "        return True\n",
    "    else:\n",
    "        return False\n",
    "# Input: Prompt the user to enter a year\n",
    "year_input = int(input(\"Enter a year: \"))\n",
    "\n",
    "# Process: Check if the year is a leap year\n",
    "if is_leap_year(year_input):\n",
    "    print(f\"{year_input} is a leap year.\")\n",
    "else:\n",
    "    print(f\"{year_input} is not a leap year.\")\n"
   ]
  },
  {
   "cell_type": "code",
   "execution_count": 25,
   "id": "2824131e-d087-4b9e-b3b3-d5a289917db2",
   "metadata": {},
   "outputs": [
    {
     "name": "stdin",
     "output_type": "stream",
     "text": [
      "Enter a number:  9474\n"
     ]
    },
    {
     "name": "stdout",
     "output_type": "stream",
     "text": [
      "9474 is an Armstrong number.\n"
     ]
    }
   ],
   "source": [
    "#task 8: armstrong number \n",
    "def is_armstrong_number(number):\n",
    "    \"\"\"Check if a number is an Armstrong number.\"\"\"\n",
    "    # Convert the number to a string to easily iterate over digits\n",
    "    digits = str(number)\n",
    "    num_digits = len(digits)\n",
    "    sum_of_powers = sum(int(digit) ** num_digits for digit in digits)\n",
    "    return sum_of_powers == number\n",
    "\n",
    "# Input: Prompt the user to enter a number\n",
    "number_input = int(input(\"Enter a number: \"))\n",
    "\n",
    "# Process: Check if the number is an Armstrong number\n",
    "if is_armstrong_number(number_input):\n",
    "    print(f\"{number_input} is an Armstrong number.\")\n",
    "else:\n",
    "    print(f\"{number_input} is not an Armstrong number.\")\n"
   ]
  },
  {
   "cell_type": "code",
   "execution_count": null,
   "id": "8673295a-1c67-44c3-9940-0afe6bfe990c",
   "metadata": {},
   "outputs": [],
   "source": []
  }
 ],
 "metadata": {
  "kernelspec": {
   "display_name": "Python 3 (ipykernel)",
   "language": "python",
   "name": "python3"
  },
  "language_info": {
   "codemirror_mode": {
    "name": "ipython",
    "version": 3
   },
   "file_extension": ".py",
   "mimetype": "text/x-python",
   "name": "python",
   "nbconvert_exporter": "python",
   "pygments_lexer": "ipython3",
   "version": "3.12.4"
  }
 },
 "nbformat": 4,
 "nbformat_minor": 5
}
