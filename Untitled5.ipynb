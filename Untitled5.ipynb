{
 "cells": [
  {
   "cell_type": "code",
   "execution_count": 1,
   "id": "28aece58-dc04-4305-9af7-d67acbf7f679",
   "metadata": {},
   "outputs": [
    {
     "name": "stdout",
     "output_type": "stream",
     "text": [
      "3\n"
     ]
    }
   ],
   "source": [
    "def find_missing_number(arr):\n",
    "    n = len(arr) + 1\n",
    "    expected_sum = n * (n + 1) // 2\n",
    "    actual_sum = sum(arr)\n",
    "    return expected_sum - actual_sum\n",
    "\n",
    "# Example\n",
    "arr = [1, 2, 4, 5, 6]  # Missing number is 3\n",
    "print(find_missing_number(arr))  # Output: 3\n"
   ]
  },
  {
   "cell_type": "code",
   "execution_count": 3,
   "id": "d2408a12-3d45-4c85-9ba2-63aef997acd0",
   "metadata": {},
   "outputs": [
    {
     "name": "stdout",
     "output_type": "stream",
     "text": [
      "True\n"
     ]
    }
   ],
   "source": [
    "def check_balanced_parentheses(s):\n",
    "    stack = []\n",
    "    matching = {')': '(', '}': '{', ']': '['}\n",
    "\n",
    "    for char in s:\n",
    "        if char in \"({[\":\n",
    "            stack.append(char)\n",
    "        elif char in \")}]\":\n",
    "            if not stack or stack[-1] != matching[char]:\n",
    "                return False\n",
    "            stack.pop()\n",
    "    return not stack\n",
    "\n",
    "# Example\n",
    "s = \"{[()]}\"  # Balanced\n",
    "print(check_balanced_parentheses(s))  # Output: True\n"
   ]
  },
  {
   "cell_type": "code",
   "execution_count": 5,
   "id": "e8e66605-ed60-42bf-b765-14999b7f8008",
   "metadata": {},
   "outputs": [
    {
     "name": "stdout",
     "output_type": "stream",
     "text": [
      "quick\n"
     ]
    }
   ],
   "source": [
    "def longest_word(sentence):\n",
    "    words = sentence.split()\n",
    "    return max(words, key=len)\n",
    "\n",
    "# Example\n",
    "sentence = \"The quick brown fox jumps over the lazy dog\"\n",
    "print(longest_word(sentence))  # Output: \"jumps\"\n"
   ]
  },
  {
   "cell_type": "code",
   "execution_count": 7,
   "id": "23518de5-7e89-49ae-96e6-e22c9309565b",
   "metadata": {},
   "outputs": [
    {
     "name": "stdout",
     "output_type": "stream",
     "text": [
      "9\n"
     ]
    }
   ],
   "source": [
    "def count_words(sentence):\n",
    "    words = sentence.split()\n",
    "    return len(words)\n",
    "\n",
    "# Example\n",
    "sentence = \"The quick brown fox jumps over the lazy dog\"\n",
    "print(count_words(sentence))  # Output: 9\n"
   ]
  },
  {
   "cell_type": "code",
   "execution_count": 9,
   "id": "0e3d6e0a-a8af-4557-b972-9ef5d35c7b81",
   "metadata": {},
   "outputs": [
    {
     "name": "stdout",
     "output_type": "stream",
     "text": [
      "True\n",
      "True\n",
      "False\n"
     ]
    }
   ],
   "source": [
    "def is_pythagorean_triplet(a, b, c):\n",
    "    # Ensure c is the largest number\n",
    "    a, b, c = sorted([a, b, c])\n",
    "    return a**2 + b**2 == c**2\n",
    "\n",
    "# Example\n",
    "print(is_pythagorean_triplet(3, 4, 5))  # Output: True\n",
    "print(is_pythagorean_triplet(5, 12, 13))  # Output: True\n",
    "print(is_pythagorean_triplet(1, 2, 3))  # Output: False\n"
   ]
  },
  {
   "cell_type": "code",
   "execution_count": 11,
   "id": "4157b8e5-09c4-4f9c-9eef-616acca54634",
   "metadata": {},
   "outputs": [
    {
     "name": "stdout",
     "output_type": "stream",
     "text": [
      "[11, 12, 22, 25, 34, 64, 90]\n"
     ]
    }
   ],
   "source": [
    "def bubble_sort(arr):\n",
    "    n = len(arr)\n",
    "    for i in range(n):\n",
    "        # Flag to check if any swaps happened\n",
    "        swapped = False\n",
    "        for j in range(0, n - i - 1):\n",
    "            if arr[j] > arr[j + 1]:\n",
    "                arr[j], arr[j + 1] = arr[j + 1], arr[j]\n",
    "                swapped = True\n",
    "        # If no swaps occurred, the array is already sorted\n",
    "        if not swapped:\n",
    "            break\n",
    "    return arr\n",
    "\n",
    "# Example\n",
    "arr = [64, 34, 25, 12, 22, 11, 90]\n",
    "print(bubble_sort(arr))  # Output: [11, 12, 22, 25, 34, 64, 90]\n"
   ]
  },
  {
   "cell_type": "code",
   "execution_count": 13,
   "id": "54b0eb84-6a60-456a-af45-f2878e3b033a",
   "metadata": {},
   "outputs": [
    {
     "name": "stdout",
     "output_type": "stream",
     "text": [
      "2\n",
      "-1\n"
     ]
    }
   ],
   "source": [
    "def binary_search(arr, target):\n",
    "    left, right = 0, len(arr) - 1\n",
    "    while left <= right:\n",
    "        mid = (left + right) // 2\n",
    "        if arr[mid] == target:\n",
    "            return mid\n",
    "        elif arr[mid] < target:\n",
    "            left = mid + 1\n",
    "        else:\n",
    "            right = mid - 1\n",
    "    return -1\n",
    "\n",
    "# Example\n",
    "arr = [1, 3, 5, 7, 9, 11]\n",
    "target = 5\n",
    "print(binary_search(arr, target))  # Output: 2\n",
    "\n",
    "target = 10\n",
    "print(binary_search(arr, target))  # Output: -1\n"
   ]
  },
  {
   "cell_type": "code",
   "execution_count": 15,
   "id": "9f60b2d5-8458-4792-a721-c34fdbf4fece",
   "metadata": {},
   "outputs": [
    {
     "name": "stdout",
     "output_type": "stream",
     "text": [
      "(1, 3)\n",
      "(2, 4)\n",
      "(0, 4)\n",
      "-1\n"
     ]
    }
   ],
   "source": [
    "def find_subarray_with_sum(arr, target_sum):\n",
    "    start = 0\n",
    "    current_sum = 0\n",
    "\n",
    "    for end in range(len(arr)):\n",
    "        current_sum += arr[end]\n",
    "\n",
    "        # Shrink the window until the sum is less than or equal to the target\n",
    "        while current_sum > target_sum and start <= end:\n",
    "            current_sum -= arr[start]\n",
    "            start += 1\n",
    "\n",
    "        # Check if the current window matches the target sum\n",
    "        if current_sum == target_sum:\n",
    "            return (start, end)\n",
    "\n",
    "    return -1\n",
    "\n",
    "# Example\n",
    "arr = [1, 2, 3, 7, 5]\n",
    "target_sum = 12\n",
    "print(find_subarray_with_sum(arr, target_sum))  # Output: (1, 3)\n",
    "\n",
    "arr = [1, 4, 20, 3, 10, 5]\n",
    "target_sum = 33\n",
    "print(find_subarray_with_sum(arr, target_sum))  # Output: (2, 4)\n",
    "\n",
    "arr = [1, 2, 3, 4, 5]\n",
    "target_sum = 15\n",
    "print(find_subarray_with_sum(arr, target_sum))  # Output: (0, 4)\n",
    "\n",
    "arr = [1, 2, 3]\n",
    "target_sum = 10\n",
    "print(find_subarray_with_sum(arr, target_sum))  # Output: -1\n"
   ]
  },
  {
   "cell_type": "code",
   "execution_count": null,
   "id": "08677b8d-733a-4e8d-932c-e720fb982c77",
   "metadata": {},
   "outputs": [],
   "source": []
  }
 ],
 "metadata": {
  "kernelspec": {
   "display_name": "Python 3 (ipykernel)",
   "language": "python",
   "name": "python3"
  },
  "language_info": {
   "codemirror_mode": {
    "name": "ipython",
    "version": 3
   },
   "file_extension": ".py",
   "mimetype": "text/x-python",
   "name": "python",
   "nbconvert_exporter": "python",
   "pygments_lexer": "ipython3",
   "version": "3.12.4"
  }
 },
 "nbformat": 4,
 "nbformat_minor": 5
}
