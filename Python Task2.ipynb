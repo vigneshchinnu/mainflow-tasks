{
 "cells": [
  {
   "cell_type": "code",
   "execution_count": 3,
   "id": "1a7df012-26c9-4cc7-8d26-7f23d7a3d8a8",
   "metadata": {},
   "outputs": [
    {
     "name": "stdout",
     "output_type": "stream",
     "text": [
      "Is 30 a prime number? False\n"
     ]
    }
   ],
   "source": [
    "#prime numbers \n",
    "def is_prime(n):\n",
    "    if n <= 1:\n",
    "        return False  # Numbers less than or equal to 1 are not prime\n",
    "    for i in range(2, int(n**0.5) + 1):  # Check divisors up to sqrt(n)\n",
    "        if n % i == 0:\n",
    "            return False\n",
    "    return True\n",
    "\n",
    "# Test the function\n",
    "number = 30\n",
    "print(f\"Is {number} a prime number? {is_prime(number)}\")\n"
   ]
  },
  {
   "cell_type": "code",
   "execution_count": 5,
   "id": "5b99a9fa-041c-45ef-8442-8a4e546fa2d7",
   "metadata": {},
   "outputs": [
    {
     "name": "stdout",
     "output_type": "stream",
     "text": [
      "Sum of digits of 12345 is 15\n"
     ]
    }
   ],
   "source": [
    "#sum of Digits \n",
    "def sum_of_digits(n):\n",
    "    return sum(int(digit) for digit in str(abs(n)))\n",
    "\n",
    "# Test the function\n",
    "number = 12345\n",
    "print(f\"Sum of digits of {number} is {sum_of_digits(number)}\")"
   ]
  },
  {
   "cell_type": "code",
   "execution_count": 9,
   "id": "4812ca11-c577-404a-a86d-f20becd27b43",
   "metadata": {},
   "outputs": [
    {
     "name": "stdout",
     "output_type": "stream",
     "text": [
      "LCM of 12 and 15 is 60\n",
      "GCD of 12 and 15 is 3\n"
     ]
    }
   ],
   "source": [
    "# Objective 3: LCM and GCD\n",
    "# Calculate the Least Common Multiple (LCM) and Greatest Common Divisor (GCD) of two integers.\n",
    "\n",
    "import math\n",
    "\n",
    "def lcm_and_gcd(a, b):\n",
    "    gcd = math.gcd(a, b)\n",
    "    lcm = abs(a * b) // gcd\n",
    "    return lcm, gcd\n",
    "\n",
    "# Test the function\n",
    "a, b = 12, 15\n",
    "lcm, gcd = lcm_and_gcd(a, b)\n",
    "print(f\"LCM of {a} and {b} is {lcm}\")\n",
    "print(f\"GCD of {a} and {b} is {gcd}\")\n"
   ]
  },
  {
   "cell_type": "code",
   "execution_count": 13,
   "id": "13ab3678-aba3-4ba1-a32b-cb35e5960173",
   "metadata": {},
   "outputs": [
    {
     "name": "stdout",
     "output_type": "stream",
     "text": [
      "Original list: [1, 2, 3, 4, 5]\n",
      "Reversed list: [5, 4, 3, 2, 1]\n"
     ]
    }
   ],
   "source": [
    "# Objective 4: List Reversal\n",
    "# Reverse a given list without using built-in functions.\n",
    "\n",
    "def reverse_list(lst):\n",
    "    reversed_list = lst[::-1]  # Using slicing for simplicity\n",
    "    return reversed_list\n",
    "\n",
    "# Test the function\n",
    "lst = [1, 2, 3, 4, 5]\n",
    "print(f\"Original list: {lst}\")\n",
    "print(f\"Reversed list: {reverse_list(lst)}\")\n"
   ]
  },
  {
   "cell_type": "code",
   "execution_count": 15,
   "id": "0ff3e3ea-d84c-44fd-a9e1-561b4ed10c16",
   "metadata": {},
   "outputs": [
    {
     "name": "stdout",
     "output_type": "stream",
     "text": [
      "Original list: [64, 34, 25, 12, 22, 11, 90]\n",
      "Sorted list: [11, 12, 22, 25, 34, 64, 90]\n"
     ]
    }
   ],
   "source": [
    "# Objective 5: Sort a List\n",
    "# Sort a list of numbers in ascending order.\n",
    "\n",
    "def bubble_sort(lst):\n",
    "    n = len(lst)\n",
    "    for i in range(n):\n",
    "        for j in range(0, n - i - 1):\n",
    "            if lst[j] > lst[j + 1]:\n",
    "                lst[j], lst[j + 1] = lst[j + 1], lst[j]\n",
    "    return lst\n",
    "\n",
    "# Test the function\n",
    "lst = [64, 34, 25, 12, 22, 11, 90]\n",
    "print(f\"Original list: {lst}\")\n",
    "print(f\"Sorted list: {bubble_sort(lst)}\")\n"
   ]
  },
  {
   "cell_type": "code",
   "execution_count": 17,
   "id": "b2d74676-2aa2-4a2b-9d56-18dc4e61c94b",
   "metadata": {},
   "outputs": [
    {
     "name": "stdout",
     "output_type": "stream",
     "text": [
      "Original list: [1, 2, 2, 3, 4, 4, 5, 5, 6]\n",
      "List without duplicates: [1, 2, 3, 4, 5, 6]\n"
     ]
    }
   ],
   "source": [
    "# Objective 6: Remove Duplicates\n",
    "# Remove duplicate elements from a list.\n",
    "\n",
    "def remove_duplicates(lst):\n",
    "    unique_list = []\n",
    "    for item in lst:\n",
    "        if item not in unique_list:\n",
    "            unique_list.append(item)\n",
    "    return unique_list\n",
    "\n",
    "# Test the function\n",
    "lst = [1, 2, 2, 3, 4, 4, 5, 5, 6]\n",
    "print(f\"Original list: {lst}\")\n",
    "print(f\"List without duplicates: {remove_duplicates(lst)}\")\n"
   ]
  },
  {
   "cell_type": "code",
   "execution_count": 19,
   "id": "4adcb060-97b4-414e-83cf-b3b417ea38df",
   "metadata": {},
   "outputs": [
    {
     "name": "stdout",
     "output_type": "stream",
     "text": [
      "The length of the string 'Hello, World!' is 13\n"
     ]
    }
   ],
   "source": [
    "# Objective 7: String Length\n",
    "# Find the length of a string without using the len() function.\n",
    "\n",
    "def string_length(s):\n",
    "    count = 0\n",
    "    for _ in s:\n",
    "        count += 1\n",
    "    return count\n",
    "\n",
    "# Test the function\n",
    "s = \"Hello, World!\"\n",
    "print(f\"The length of the string '{s}' is {string_length(s)}\")\n"
   ]
  },
  {
   "cell_type": "code",
   "execution_count": 21,
   "id": "44663a55-9184-48c5-a698-e95c0da2c066",
   "metadata": {},
   "outputs": [
    {
     "name": "stdout",
     "output_type": "stream",
     "text": [
      "The string 'Hello, World!' has 3 vowels and 7 consonants.\n"
     ]
    }
   ],
   "source": [
    "# Objective 8: Count Vowels and Consonants\n",
    "# Count the number of vowels and consonants in a string.\n",
    "\n",
    "def count_vowels_and_consonants(s):\n",
    "    vowels = {'a', 'e', 'i', 'o', 'u', 'A', 'E', 'I', 'O', 'U'}\n",
    "    vowel_count = 0\n",
    "    consonant_count = 0\n",
    "    for char in s:\n",
    "        if char.isalpha():\n",
    "            if char in vowels:\n",
    "                vowel_count += 1\n",
    "            else:\n",
    "                consonant_count += 1\n",
    "    return vowel_count, consonant_count\n",
    "\n",
    "# Test the function\n",
    "s = \"Hello, World!\"\n",
    "vowels, consonants = count_vowels_and_consonants(s)\n",
    "print(f\"The string '{s}' has {vowels} vowels and {consonants} consonants.\")\n"
   ]
  },
  {
   "cell_type": "code",
   "execution_count": null,
   "id": "5a7b5d82-a420-4c02-92c8-cd6540d43670",
   "metadata": {},
   "outputs": [],
   "source": []
  }
 ],
 "metadata": {
  "kernelspec": {
   "display_name": "Python 3 (ipykernel)",
   "language": "python",
   "name": "python3"
  },
  "language_info": {
   "codemirror_mode": {
    "name": "ipython",
    "version": 3
   },
   "file_extension": ".py",
   "mimetype": "text/x-python",
   "name": "python",
   "nbconvert_exporter": "python",
   "pygments_lexer": "ipython3",
   "version": "3.12.4"
  }
 },
 "nbformat": 4,
 "nbformat_minor": 5
}
