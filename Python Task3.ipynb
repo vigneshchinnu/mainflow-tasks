{
 "cells": [
  {
   "cell_type": "code",
   "execution_count": 1,
   "id": "dfe19995-195d-48eb-9c65-e440d305c0bd",
   "metadata": {},
   "outputs": [
    {
     "name": "stdout",
     "output_type": "stream",
     "text": [
      "5 x 1 = 5\n",
      "5 x 2 = 10\n",
      "5 x 3 = 15\n",
      "5 x 4 = 20\n",
      "5 x 5 = 25\n",
      "5 x 6 = 30\n",
      "5 x 7 = 35\n",
      "5 x 8 = 40\n",
      "5 x 9 = 45\n",
      "5 x 10 = 50\n"
     ]
    }
   ],
   "source": [
    "def multiplication_table(n):\n",
    "    for i in range(1, 11):\n",
    "        print(f\"{n} x {i} = {n * i}\")\n",
    "\n",
    "# Example usage\n",
    "multiplication_table(5)\n"
   ]
  },
  {
   "cell_type": "code",
   "execution_count": 3,
   "id": "ac9571df-0c57-4d12-93a3-78d747dbdbd2",
   "metadata": {},
   "outputs": [
    {
     "name": "stdout",
     "output_type": "stream",
     "text": [
      "Before swapping: a = 10, b = 20\n",
      "After swapping: a = 20, b = 10\n"
     ]
    }
   ],
   "source": [
    "def swap_numbers(a, b):\n",
    "    print(f\"Before swapping: a = {a}, b = {b}\")\n",
    "    a = a + b\n",
    "    b = a - b\n",
    "    a = a - b\n",
    "    print(f\"After swapping: a = {a}, b = {b}\")\n",
    "\n",
    "# Example usage\n",
    "swap_numbers(10, 20)\n"
   ]
  },
  {
   "cell_type": "code",
   "execution_count": 5,
   "id": "0921dabc-6208-4906-b84b-4ec6bc063895",
   "metadata": {},
   "outputs": [
    {
     "name": "stdout",
     "output_type": "stream",
     "text": [
      "True\n",
      "False\n"
     ]
    }
   ],
   "source": [
    "def is_substring(s1, s2):\n",
    "    return s2 in s1\n",
    "\n",
    "# Example usage\n",
    "print(is_substring(\"hello world\", \"world\"))  # True\n",
    "print(is_substring(\"python\", \"java\"))       # False\n"
   ]
  },
  {
   "cell_type": "code",
   "execution_count": 7,
   "id": "ac924a3a-4665-4890-9fc9-a9f1d7c70075",
   "metadata": {},
   "outputs": [
    {
     "name": "stdout",
     "output_type": "stream",
     "text": [
      "1010\n",
      "11111111\n"
     ]
    }
   ],
   "source": [
    "def decimal_to_binary(n):\n",
    "    return bin(n)[2:]  # Remove the \"0b\" prefix\n",
    "\n",
    "# Example usage\n",
    "print(decimal_to_binary(10))  # Output: \"1010\"\n",
    "print(decimal_to_binary(255)) # Output: \"11111111\"\n"
   ]
  },
  {
   "cell_type": "code",
   "execution_count": 9,
   "id": "adfb7ff3-f640-4049-9a2b-69d13e159ba8",
   "metadata": {},
   "outputs": [
    {
     "name": "stdout",
     "output_type": "stream",
     "text": [
      "[10, 10, 10]\n",
      "[10, 10, 10]\n",
      "[10, 10, 10]\n"
     ]
    }
   ],
   "source": [
    "def add_matrices(matrix1, matrix2):\n",
    "    if len(matrix1) != len(matrix2) or len(matrix1[0]) != len(matrix2[0]):\n",
    "        return \"Matrices must have the same dimensions!\"\n",
    "    \n",
    "    result = []\n",
    "    for i in range(len(matrix1)):\n",
    "        row = []\n",
    "        for j in range(len(matrix1[0])):\n",
    "            row.append(matrix1[i][j] + matrix2[i][j])\n",
    "        result.append(row)\n",
    "    return result\n",
    "\n",
    "# Example usage\n",
    "matrix1 = [[1, 2, 3], [4, 5, 6], [7, 8, 9]]\n",
    "matrix2 = [[9, 8, 7], [6, 5, 4], [3, 2, 1]]\n",
    "\n",
    "result = add_matrices(matrix1, matrix2)\n",
    "for row in result:\n",
    "    print(row)\n"
   ]
  },
  {
   "cell_type": "code",
   "execution_count": 11,
   "id": "a944e359-85bd-437b-a9ab-237402ae9512",
   "metadata": {},
   "outputs": [
    {
     "name": "stdout",
     "output_type": "stream",
     "text": [
      "[58, 64]\n",
      "[139, 154]\n"
     ]
    }
   ],
   "source": [
    "def multiply_matrices(A, B):\n",
    "    if len(A[0]) != len(B):\n",
    "        return \"Matrix multiplication is not possible!\"\n",
    "    \n",
    "    result = [[0 for _ in range(len(B[0]))] for _ in range(len(A))]\n",
    "    for i in range(len(A)):\n",
    "        for j in range(len(B[0])):\n",
    "            for k in range(len(B)):\n",
    "                result[i][j] += A[i][k] * B[k][j]\n",
    "    return result\n",
    "\n",
    "# Example usage\n",
    "A = [[1, 2, 3], [4, 5, 6]]\n",
    "B = [[7, 8], [9, 10], [11, 12]]\n",
    "\n",
    "result = multiply_matrices(A, B)\n",
    "for row in result:\n",
    "    print(row)\n"
   ]
  },
  {
   "cell_type": "code",
   "execution_count": 13,
   "id": "ed2d2b00-14b5-4a18-92ad-9ebc053cf0b3",
   "metadata": {},
   "outputs": [
    {
     "name": "stdout",
     "output_type": "stream",
     "text": [
      "45\n"
     ]
    }
   ],
   "source": [
    "def find_second_largest(numbers):\n",
    "    if len(numbers) < 2:\n",
    "        return \"List must have at least two distinct numbers!\"\n",
    "    \n",
    "    largest = second_largest = float('-inf')\n",
    "    for num in numbers:\n",
    "        if num > largest:\n",
    "            second_largest, largest = largest, num\n",
    "        elif num > second_largest and num != largest:\n",
    "            second_largest = num\n",
    "    \n",
    "    return second_largest\n",
    "\n",
    "# Example usage\n",
    "numbers = [10, 20, 4, 45, 99, 99]\n",
    "print(find_second_largest(numbers))  # Output: 45\n"
   ]
  },
  {
   "cell_type": "code",
   "execution_count": 15,
   "id": "4e0d434d-7fe8-49bc-ad18-332f941bd27b",
   "metadata": {},
   "outputs": [
    {
     "name": "stdout",
     "output_type": "stream",
     "text": [
      "True\n",
      "False\n"
     ]
    }
   ],
   "source": [
    "def is_anagram(str1, str2):\n",
    "    return sorted(str1) == sorted(str2)\n",
    "\n",
    "# Example usage\n",
    "print(is_anagram(\"listen\", \"silent\"))  # True\n",
    "print(is_anagram(\"hello\", \"world\"))    # False\n"
   ]
  },
  {
   "cell_type": "code",
   "execution_count": null,
   "id": "f3d841f7-ad88-4219-8fe6-e4e2a61cc5b6",
   "metadata": {},
   "outputs": [],
   "source": []
  }
 ],
 "metadata": {
  "kernelspec": {
   "display_name": "Python 3 (ipykernel)",
   "language": "python",
   "name": "python3"
  },
  "language_info": {
   "codemirror_mode": {
    "name": "ipython",
    "version": 3
   },
   "file_extension": ".py",
   "mimetype": "text/x-python",
   "name": "python",
   "nbconvert_exporter": "python",
   "pygments_lexer": "ipython3",
   "version": "3.12.4"
  }
 },
 "nbformat": 4,
 "nbformat_minor": 5
}
